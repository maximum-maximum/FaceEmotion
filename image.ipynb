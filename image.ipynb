{
 "cells": [
  {
   "cell_type": "markdown",
   "metadata": {},
   "source": [
    "# Normal"
   ]
  },
  {
   "cell_type": "code",
   "execution_count": 9,
   "metadata": {},
   "outputs": [
    {
     "name": "stdout",
     "output_type": "stream",
     "text": [
      "<class 'numpy.ndarray'>\n"
     ]
    }
   ],
   "source": [
    "from PIL import Image\n",
    "import numpy as np\n",
    "\n",
    "im = np.array(Image.open('./trimmed.jpg'))\n",
    "\n",
    "print(type(im))"
   ]
  },
  {
   "cell_type": "code",
   "execution_count": 10,
   "metadata": {},
   "outputs": [
    {
     "data": {
      "text/plain": [
       "array([[[121, 191, 225],\n",
       "        [122, 192, 226],\n",
       "        [122, 192, 226],\n",
       "        ...,\n",
       "        [122, 192, 228],\n",
       "        [123, 193, 229],\n",
       "        [126, 196, 232]],\n",
       "\n",
       "       [[121, 191, 225],\n",
       "        [122, 192, 226],\n",
       "        [122, 192, 226],\n",
       "        ...,\n",
       "        [122, 192, 228],\n",
       "        [123, 193, 229],\n",
       "        [126, 196, 232]],\n",
       "\n",
       "       [[121, 191, 225],\n",
       "        [122, 192, 226],\n",
       "        [122, 192, 226],\n",
       "        ...,\n",
       "        [122, 192, 228],\n",
       "        [123, 193, 229],\n",
       "        [126, 196, 232]],\n",
       "\n",
       "       ...,\n",
       "\n",
       "       [[121, 191, 225],\n",
       "        [122, 192, 226],\n",
       "        [122, 192, 226],\n",
       "        ...,\n",
       "        [122, 192, 228],\n",
       "        [123, 193, 229],\n",
       "        [126, 196, 232]],\n",
       "\n",
       "       [[121, 191, 225],\n",
       "        [122, 192, 226],\n",
       "        [122, 192, 226],\n",
       "        ...,\n",
       "        [122, 192, 228],\n",
       "        [123, 193, 229],\n",
       "        [126, 196, 232]],\n",
       "\n",
       "       [[121, 191, 225],\n",
       "        [122, 192, 226],\n",
       "        [122, 192, 226],\n",
       "        ...,\n",
       "        [122, 192, 228],\n",
       "        [123, 193, 229],\n",
       "        [126, 196, 232]]], dtype=uint8)"
      ]
     },
     "execution_count": 10,
     "metadata": {},
     "output_type": "execute_result"
    }
   ],
   "source": [
    "im"
   ]
  },
  {
   "cell_type": "code",
   "execution_count": 11,
   "metadata": {},
   "outputs": [
    {
     "name": "stdout",
     "output_type": "stream",
     "text": [
      "(420, 420, 3)\n"
     ]
    }
   ],
   "source": [
    "print(im.shape)"
   ]
  },
  {
   "cell_type": "markdown",
   "metadata": {},
   "source": [
    "# Gray"
   ]
  },
  {
   "cell_type": "code",
   "execution_count": 12,
   "metadata": {},
   "outputs": [],
   "source": [
    "im_gray = np.array(Image.open('./trimmed.jpg').convert('L'))"
   ]
  },
  {
   "cell_type": "code",
   "execution_count": 13,
   "metadata": {},
   "outputs": [
    {
     "data": {
      "text/plain": [
       "array([[174, 175, 175, ..., 175, 176, 179],\n",
       "       [174, 175, 175, ..., 175, 176, 179],\n",
       "       [174, 175, 175, ..., 175, 176, 179],\n",
       "       ...,\n",
       "       [174, 175, 175, ..., 175, 176, 179],\n",
       "       [174, 175, 175, ..., 175, 176, 179],\n",
       "       [174, 175, 175, ..., 175, 176, 179]], dtype=uint8)"
      ]
     },
     "execution_count": 13,
     "metadata": {},
     "output_type": "execute_result"
    }
   ],
   "source": [
    "im_gray"
   ]
  },
  {
   "cell_type": "code",
   "execution_count": 14,
   "metadata": {},
   "outputs": [
    {
     "name": "stdout",
     "output_type": "stream",
     "text": [
      "(420, 420)\n"
     ]
    }
   ],
   "source": [
    "print(im_gray.shape)"
   ]
  },
  {
   "cell_type": "code",
   "execution_count": 15,
   "metadata": {},
   "outputs": [],
   "source": [
    "pil_img = Image.fromarray(im_gray)\n",
    "pil_img.save('./output/gray.jpg')"
   ]
  },
  {
   "cell_type": "markdown",
   "metadata": {},
   "source": [
    "# Resize"
   ]
  },
  {
   "cell_type": "code",
   "execution_count": 17,
   "metadata": {},
   "outputs": [],
   "source": [
    "img = Image.open('./trimmed.jpg')\n",
    "im_resize = img.resize((48, 48))"
   ]
  },
  {
   "cell_type": "code",
   "execution_count": 19,
   "metadata": {},
   "outputs": [],
   "source": [
    "im_resize.save('./output/resize.jpg')"
   ]
  },
  {
   "cell_type": "code",
   "execution_count": null,
   "metadata": {},
   "outputs": [],
   "source": []
  },
  {
   "cell_type": "markdown",
   "metadata": {},
   "source": [
    "# まとめ"
   ]
  },
  {
   "cell_type": "markdown",
   "metadata": {},
   "source": [
    "### 正方形の画像をグレースケール化&resize"
   ]
  },
  {
   "cell_type": "code",
   "execution_count": 37,
   "metadata": {},
   "outputs": [],
   "source": [
    "from PIL import Image\n",
    "import numpy as np"
   ]
  },
  {
   "cell_type": "code",
   "execution_count": 38,
   "metadata": {},
   "outputs": [],
   "source": [
    "gray = Image.open('./trimmed.jpg').convert('L')\n",
    "im_resize = gray.resize((48, 48))"
   ]
  },
  {
   "cell_type": "code",
   "execution_count": 39,
   "metadata": {},
   "outputs": [],
   "source": [
    "im_resize.save('./output/test.jpg')"
   ]
  },
  {
   "cell_type": "markdown",
   "metadata": {},
   "source": [
    "### import"
   ]
  },
  {
   "cell_type": "code",
   "execution_count": 40,
   "metadata": {},
   "outputs": [],
   "source": [
    "im = np.array(Image.open('./output/test.jpg'))"
   ]
  },
  {
   "cell_type": "code",
   "execution_count": 41,
   "metadata": {},
   "outputs": [
    {
     "data": {
      "text/plain": [
       "array([[177, 168, 184, ..., 183, 175, 171],\n",
       "       [178, 173, 183, ..., 176, 169, 179],\n",
       "       [175, 178, 178, ..., 174, 171, 176],\n",
       "       ...,\n",
       "       [175, 175, 175, ..., 175, 175, 175],\n",
       "       [175, 175, 175, ..., 175, 175, 175],\n",
       "       [175, 175, 175, ..., 175, 175, 175]], dtype=uint8)"
      ]
     },
     "execution_count": 41,
     "metadata": {},
     "output_type": "execute_result"
    }
   ],
   "source": [
    "im"
   ]
  },
  {
   "cell_type": "code",
   "execution_count": 42,
   "metadata": {},
   "outputs": [
    {
     "name": "stdout",
     "output_type": "stream",
     "text": [
      "(48, 48)\n"
     ]
    }
   ],
   "source": [
    "print(im.shape)"
   ]
  },
  {
   "cell_type": "markdown",
   "metadata": {},
   "source": [
    "# Test"
   ]
  },
  {
   "cell_type": "code",
   "execution_count": 45,
   "metadata": {},
   "outputs": [],
   "source": [
    "im = im.reshape(1,48,48,1)"
   ]
  },
  {
   "cell_type": "code",
   "execution_count": 46,
   "metadata": {},
   "outputs": [
    {
     "name": "stdout",
     "output_type": "stream",
     "text": [
      "(1, 48, 48, 1)\n"
     ]
    }
   ],
   "source": [
    "print(im.shape)"
   ]
  }
 ],
 "metadata": {
  "kernelspec": {
   "display_name": "Python 3",
   "language": "python",
   "name": "python3"
  },
  "language_info": {
   "codemirror_mode": {
    "name": "ipython",
    "version": 3
   },
   "file_extension": ".py",
   "mimetype": "text/x-python",
   "name": "python",
   "nbconvert_exporter": "python",
   "pygments_lexer": "ipython3",
   "version": "3.8.3"
  }
 },
 "nbformat": 4,
 "nbformat_minor": 4
}
